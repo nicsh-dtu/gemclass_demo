{
 "cells": [
  {
   "cell_type": "code",
   "execution_count": 1,
   "metadata": {},
   "outputs": [
    {
     "name": "stdout",
     "output_type": "stream",
     "text": [
      "Installing packages from requirements.txt...\n"
     ]
    }
   ],
   "source": [
    "# Importing necessary libraries\n",
    "import subprocess\n",
    "import sys\n",
    "import os\n",
    "\n",
    "req_file = \"requirements.txt\"\n",
    "if os.path.exists(req_file):\n",
    "    print(\"Installing packages from requirements.txt...\")\n",
    "    subprocess.check_call([sys.executable, \"-m\", \"pip\", \"install\", \"-r\", req_file])\n",
    "else:\n",
    "    print(\"requirements.txt not found.\")\n",
    "    \n",
    "import yaml\n",
    "import json\n",
    "import pandas as pd\n",
    "import warnings\n",
    "warnings.filterwarnings(\"ignore\")\n",
    "from Setup.classification_utils import get_projectResults, create_classified_df, replace_wrong_classes_fromDict, remove_phrases_from_dict"
   ]
  },
  {
   "cell_type": "markdown",
   "metadata": {},
   "source": [
    "# 1. Gemini API & Classes and Descriptions"
   ]
  },
  {
   "cell_type": "markdown",
   "metadata": {},
   "source": [
    "Accessing the Gemini API Key from the config file."
   ]
  },
  {
   "cell_type": "code",
   "execution_count": 2,
   "metadata": {},
   "outputs": [],
   "source": [
    "# Loading API Key\n",
    "with open(\"Setup/config.yaml\", \"r\") as file:\n",
    "    config = yaml.safe_load(file)\n",
    "gemini_api_key = config[\"gemini_api_key\"]"
   ]
  },
  {
   "cell_type": "markdown",
   "metadata": {},
   "source": [
    "Accessing the clasyes with descriptions from the description file."
   ]
  },
  {
   "cell_type": "code",
   "execution_count": 3,
   "metadata": {},
   "outputs": [
    {
     "name": "stdout",
     "output_type": "stream",
     "text": [
      "{'1.1 Characteristics of plastics - Characteristics of plastics-general': 'Includes characteristics of plastic themselves in terms of their potential toxicology or ecotoxicology (i.e., particle size, size distribution, shape, surface area, redox potential and properties, purity or identity of contaminants, catalytic activity, generation of reactive oxygen species).\\n', '1.2 Characteristics of plastics - Bioaccumulation, bioconcentration and persistence': 'Includes how plastics behave with respect to their ability to bioaccumulate, concentrate or persist in organisms and/or the environment.\\n', '1.3 Characteristics of plastics - Biological processes and biotic interactions with plastic': 'Includes all types of biological processes and interactions with plastics, including.\\n', '1.4 Characteristics of plastics - Cellular uptake of plastic': 'Includes all types of cellular uptake of plastics (from plants, animals, bacteria, fungi, etc.).\\n', '1.5 Characteristics of plastics - Degradation': 'Includes all types of degradation of plastics (biotic and abiotic).\\n', '1.6 Characteristics of plastics - Environmental fate and behavior of plastic': 'Includes environmental processes from intentional and unintentional release of plastics, such as agglomeration, absorbance with other toxic substances in environment, etc.\\n', '1.7 Characteristics of plastics - Fate and behavior within an organism': 'Includes processes involving plastics in all types of organisms (plants, animals, bacteria, fungi, etc.).\\n', '2 Commercial-related uncertainties': 'Includes life cycle of plastics and nano-products and other commercial or industrial EHS uncertainties. Note that specific life cycle aspects would be included in other locations (i.e., characteristics of plastics, environmental fate and behavior, etc.).\\n', '3 Defining plastics': 'Includes definitions of all forms of plastics and nano-products.\\n', '4.1 Effects assessment - Effects assessment-general': 'Includes general or unspecific toxicological or ecotoxicological effects from plastics exposure.\\n', '4.2 Effects assessment - Bioaccumulation and biomagnification': 'Includes human and/or environmental effects related to bioaccumulation and/or biomagnifications of plastics.\\n', '4.3 Effects assessment - Carcinogenicity': 'Includes aspects of carcinogenicity and cancer-related effects from plastics exposure.\\n', '4.4 Effects assessment - Chronic or long-term effects, multiple forms and/or sources': 'Includes human and/or environmental effects from various spatial and/or temporal variations of plastics, including effects from chronic exposures or multiple sources.\\n', '4.5 Effects assessment - Dose-response relationship': 'Includes an established relationship between a human and/or environmental effect and a given dose or concentration of plastics.\\n', '4.6 Effects assessment - Environmental effects and ecotoxicity': 'Includes effects in any environmental matrix (soil, water, air) and/or organisms residing within the environmental matrices from plastics exposure.\\n', '4.7 Effects assessment - Genotoxicity': 'Includes adverse human and/or environmental effects to cellsâ€™ genetic material from plastics exposure.\\n', '4.8 Effects assessment - Human toxicity': 'Includes any adverse human health effects from plastics exposure.\\n', '4.9 Effects assessment - Mode of action (MOA)': 'Includes mechanisms of action in which an effect is observed in humans and/or other organisms (i.e., reactive oxygen species, etc.) from plastics exposure.\\n', '4.10 Effects assessment - Neurotoxicity': 'Includes adverse effects to the nervous system from plastics exposure.\\n', '4.11 Effects assessment - Reproductive and teratogenic effects': 'Includes adverse effects to reproductive systems (i.e., endocrine disruptions, birth defects, malformations) in humans or other organisms from plastics exposure.\\n', '4.12 Effects assessment - Species and individual susceptibility': 'Includes adverse human or environmental effects in sensitive species, individuals or subpopulations from plastics exposure.\\n', '4.13 Effects assessment - Toxicokinetics, toxicodynamics and metabolism (ADME)': 'Includes processes such as absorption, distribution, metabolism and excretion involving plastics and the rate in which they occur.\\n', '4.14 Effects assessment - Translocation within organism': 'Includes adverse human and/or environmental effects from plastics translocation within an organism.\\n', '5.1 Exposure assessment - Exposure assessment-general': 'Includes general human and environment exposures to plastics.\\n', '5.2 Exposure assessment - Consumer exposure': 'Includes plastics exposures to consumers and the general human population; voluntary and involuntary exposures.\\n', '5.3 Exposure assessment - Dermal exposure': 'Includes plastics exposures to dermal cells, both for humans and other organisms.\\n', '5.4 Exposure assessment - Environmental exposure': 'Includes plastics exposure to all environmental matrices.\\n', '5.5 Exposure assessment - Occupational exposure': 'Includes human exposure to plastics via occupational settings.\\n', '5.6 Exposure assessment - Personal protection equipment (PPE)': 'Includes use or absence of personal protective equipment and other workplace protective equipment.\\n', '5.7 Exposure assessment - Tools to limit release': 'Includes technical and non-technical means or equipment to control or limit human and environmental exposures to plastics.\\n', '5.8 Exposure assessment - Translocation within an organism': 'Includes human and environmental exposure to plastics through plastics.\\n', '6.1 Testing - Uptake routes': 'Includes various human and environmental exposure routes to plastics.\\n', '6.2 Testing - Testing considerations-general': 'Includes general aspects of plastics characterization, exposure, effects, risk and safety assessment testing parameters.\\n', '6.3 Testing - Bioaccumulation and persistence test methods': 'Includes test considerations to determine bioaccumulation and persistence of plastics within organisms and the environment.\\n', '6.4 Testing - Bioavailability exposure test methods': 'Includes test considerations to determine bioavailability of plastics.\\n', '6.5 Testing - Carcinogenicity test methods': 'Includes test considerations to evaluate carcinogenicity of plastics.\\n', '6.6 Testing - Characterization test methods': 'Includes test considerations (i.e., methods, procedures and equipment) for fully characterizing plastics, both in vitro and in vivo.\\n', '6.7 Testing - Environmental risk assessment (ERA)': 'Includes methods and procedures for conducting environmental risk assessments of plastics.\\n', '6.8 Testing - Extrapolation of data': 'Includes extrapolations from, e.g., models to realistic scenarios, from laboratory to environmentally relevant species, knowledge of ultrafine particles to plastics, etc.\\n', '6.9 Testing - Genotoxicity test methods': 'Includes test considerations to determine genotoxicity of plastics in humans and other organisms.\\n', '6.10 Testing - Human and environmental effects and toxicity test methods': 'Includes test considerations to determine any adverse effects to humans and the environment from plastics exposure.\\n', '6.11 Testing - Human and environmental exposure test methods': 'Includes test considerations to determine human and/or environmental exposures to plastics.\\n', '6.12 Testing - Interspecies or individual toxicity differences': 'Includes test considerations to determine sensitive species, individuals or subpopulations to plastics.\\n', '6.13 Testing - Models to predict toxicity': 'Includes models to predict toxicity of plastics, such as quantitative structure-activity relationships (QSAR).\\n', '6.14 Testing - Monitoring and detection equipment': 'Includes equipment and instrumentation that can determine and measure exposure of plastics, both in vitro and in vivo.\\n', '6.15 Testing - Monitoring exposure methods': 'Includes test methods and procedures to detect and monitor plastics exposure, in the workplace and environment.\\n', '6.16 Testing - Mutagenicity test methods': 'Includes test considerations to determine mutagenicity of plastics in humans and other organisms.\\n', '6.17 Testing - Reference materials and standardization': 'Includes reference or benchmark plastics, standardization of plastics, test procedures and nomenclature.\\n', '6.18 Testing - Reproductive toxicity test methods': 'Includes test considerations to determine reproductive toxicity of plastics in humans and other organisms.\\n', '6.19 Testing - Risk assessment (RA)': 'Includes general methods and procedures for conducting standard risk assessments of plastics.\\n', '6.20 Testing - Risk assessment (RA) standard taxa': 'Includes standard organisms involved in risk assessments of plastics.\\n', '6.21 Testing - Risk assessment (RA) standard test procedures': 'Includes standard test procedures involved in risk assessments.\\n', '6.22 Testing - Translocation and metabolism test methods': 'Includes methods and procedures to determine exposure of plastics through translocation and metabolism processes.\\n', '7 Unspecific uncertainties': 'Includes general lack of knowledge of plastics, not referring to any specific EHS aspect.'}\n"
     ]
    }
   ],
   "source": [
    "# Loading Knowledge Gaps and their Descriptions\n",
    "with open(\"Setup/descriptions.yaml\", \"r\") as file:\n",
    "    descriptions = yaml.safe_load(file)\n",
    "class_descriptions = {key: value for key, value in descriptions.items()}\n",
    "print(class_descriptions)"
   ]
  },
  {
   "cell_type": "markdown",
   "metadata": {},
   "source": [
    "# 1. Classification"
   ]
  },
  {
   "cell_type": "markdown",
   "metadata": {},
   "source": [
    "Looping through the PDF's stored in the subfolders in the 'Files' main folder. Used functions are stored in classifications.utils.py."
   ]
  },
  {
   "cell_type": "code",
   "execution_count": 4,
   "metadata": {},
   "outputs": [
    {
     "name": "stdout",
     "output_type": "stream",
     "text": [
      "\n",
      "File 1: Processing 2022-04-08.pdf in project 'IMPTOX'...\n",
      "Total Classes: 4, Classes: {'6.6 Testing - Characterization test methods': \"The paper details the development and validation of a UHPLC-MS/MS method for quantifying microcystins and nodularin, including descriptions of the instrumentation, procedures, and parameters used.  Sections 2.1-2.6 comprehensively describe the method's characterization.\", '6.10 Testing - Human and environmental effects and toxicity test methods': 'The study validates a method for quantifying toxins that cause adverse human health effects (hepatotoxicity). Section 2.6 details the validation process and parameters evaluated, directly relating to toxicity testing.', '6.3 Testing - Bioaccumulation and persistence test methods': 'While not explicitly a bioaccumulation/persistence study, the validated method (Sections 2.1-2.6) provides a tool to measure the presence and concentration of these toxins in drinking water, a crucial aspect of assessing their bioaccumulation and persistence potential in humans consuming this water.', '6.11 Testing - Human and environmental exposure test methods': \"The application of the validated method to bottled and tap water samples (Section 3.2) directly contributes to assessing human exposure to cyanotoxins via drinking water.  Table 4 shows the method's performance in real-world samples, implying its application in exposure assessment.\"}\n",
      "\n",
      "File 2: Processing 2023-04-24.pdf in project 'IMPTOX'...\n",
      "Total Classes: 6, Classes: {'4.1 Effects assessment - Effects assessment-general': 'The paper investigates the combined toxicity of aflatoxin B1 and fumonisin B1 on HepG2 cells, assessing effects on mitochondrial and glycolytic activity, cell viability, ROS generation, and MMP disruption.  (Abstract, sections 3.1, 3.2)', '4.6 Effects assessment - Environmental effects and ecotoxicity': 'While the study focuses on in vitro effects, the introduction mentions the co-occurrence of these mycotoxins in food and their hepatotoxicity in humans, implying relevance to environmental exposure and resulting human health effects. (Introduction)', '4.9 Effects assessment - Mode of action (MOA)': 'The research explores the mechanisms of toxicity, including effects on mitochondrial respiration, glycolysis, ROS production, and the p53 signaling pathway. (Abstract, sections 3.2, 3.3)', '4.13 Effects assessment - Toxicokinetics, toxicodynamics and metabolism (ADME)': 'The study investigates the effects of different concentrations and combinations of aflatoxin B1 and fumonisin B1, which implies an investigation into dose-response and metabolic effects within cells. (Section 2.2, 3.1, 3.2)', '6.2 Testing - Testing considerations-general': 'The paper describes various methods used for assessing cytotoxicity, bioenergetics, and transcriptomics, including the MTT assay, Seahorse respirometry, and RNA sequencing. (Sections 2.3, 2.4, 2.5)', '6.6 Testing - Characterization test methods': 'The study details specific methods for cell culture, mycotoxin exposure, cytotoxicity assays (MTT, ROS, MMP), Seahorse extracellular flux analysis, and RNA sequencing. (Sections 2.1, 2.2, 2.3, 2.4, 2.5)'}\n",
      "\n",
      "File 3: Processing 2023-07-27.pdf in project 'IMPTOX'...\n",
      "Total Classes: 10, Classes: {'1.1 Characteristics of plastics - Characteristics of plastics-general': 'The paper characterizes polystyrene microplastics in terms of particle size (10 μm and 100 μm), shape (beads or spheres), and surface chemistry (zeta potential, hydrophobic interactions with aromatic residues of pepsin).  This information is found in sections 2.1, 3.1, and 3.3.', '1.3 Characteristics of plastics - Biological processes and biotic interactions with plastic': 'The study investigates the interaction of polystyrene microplastics with pepsin, an enzyme in the human stomach, and milk proteins. This is detailed throughout sections 3.2, 3.3, 3.4 and 3.5.', '1.5 Characteristics of plastics - Degradation': 'While not directly about degradation, the study implicitly addresses the stability of polystyrene in simulated gastric conditions by observing its interactions with digestive enzymes and proteins over time.', '1.7 Fate and behavior within an organism': 'The research examines the behavior of polystyrene microplastics within a simulated human gastric environment, specifically their interactions with pepsin and milk proteins, and their impact on protein digestion (Sections 3.2, 3.3, 3.4, and 3.5).', '4.1 Effects assessment - Effects assessment-general': 'The paper assesses the general effect of polystyrene microplastics on pepsin activity and milk protein digestion (Sections 3.2 and 3.5).', '4.6 Effects assessment - Environmental effects and ecotoxicity': 'Although focused on human digestion, the findings contribute to the understanding of potential environmental effects by highlighting the interaction of microplastics with biological systems.', '4.13 Effects assessment - Toxicokinetics, toxicodynamics and metabolism (ADME)': 'The study investigates the interactions and binding of plastics (polystyrene microplastics) with pepsin and milk proteins, providing insights into aspects of absorption and binding within the simulated gastric system (Section 3).', '6.2 Testing - Testing considerations-general': 'The paper describes the methods and procedures used for characterizing polystyrene microplastics, simulating gastric digestion, and assessing their effects on pepsin activity and milk protein digestion (Section 2).', '6.6 Testing - Characterization test methods': 'The study details methods used for characterizing polystyrene microplastics including ATR-FTIR, SEM, and zeta potential analysis (Section 2.1 and 3.1).', '6.10 Testing - Human and environmental effects and toxicity test methods': 'The study develops and applies in vitro methods to assess the effects of polystyrene microplastics on human digestion (Section 2).'}\n",
      "\n",
      "File 4: Processing 2023-08-14.pdf in project 'IMPTOX'...\n",
      "Total Classes: 19, Classes: {'1.1 Characteristics of plastics - Characteristics of plastics-general': 'The paper discusses the size, shape, and concentration of nano- and microplastics (NMPs) in dairy products (Abstract, Introduction, sections 4, 5, 6).', '1.2 Characteristics of plastics - Bioaccumulation, bioconcentration and persistence': 'The review mentions the bioaccumulation of NMPs in dairy products and their persistence in the environment (Abstract, sections 6, 7).', '1.6 Characteristics of plastics - Environmental fate and behavior of plastic': 'The paper discusses the migration of NMPs from plastic packaging into dairy products and their presence in various food products (Introduction, section 6).', '1.7 Fate and behavior within an organism': 'The review discusses the behavior of NMPs within the gastrointestinal tract (sections 7, 8).', '2 Commercial-related uncertainties': 'The paper addresses commercial concerns regarding the use of plastics in food packaging and the subsequent migration of NMPs into food (Introduction, section 4).', '4.1 Effects assessment - Effects assessment-general': 'The review discusses the potential effects of NMPs on human health, including inflammation and gastrointestinal issues (section 2).', '4.2 Effects assessment - Bioaccumulation and biomagnification': 'The paper discusses the bioaccumulation of NMPs in the gastrointestinal tract and their potential effects (sections 2, 7, 8).', '4.4 Effects assessment - Chronic or long-term effects, multiple forms and/or sources': 'The paper examines the chronic effects of NMPs from various sources (sections 2, 8, 9).', '4.6 Effects assessment - Environmental effects and ecotoxicity': 'The review discusses the ecotoxicological effects of NMPs on organisms (sections 7, 8, 9).', '4.8 Effects assessment - Human toxicity': 'The paper explores the potential human health effects of NMPs (section 2).', '4.9 Effects assessment - Mode of action (MOA)': \"The paper discusses potential mechanisms of action for NMPs' effects on nutrient digestion and absorption (sections 8, 9).\", '4.13 Effects assessment - Toxicokinetics, toxicodynamics and metabolism (ADME)': 'The review discusses the absorption, distribution, and metabolism of NMPs within organisms (sections 2, 7, 9).', '5.1 Exposure assessment - Exposure assessment-general': 'The paper examines human exposure to NMPs through food consumption (Introduction, section 2).', '5.2 Exposure assessment - Consumer exposure': 'The paper discusses consumer exposure to NMPs through the consumption of dairy products (Introduction, section 6).', '5.4 Exposure assessment - Environmental exposure': 'The review mentions environmental sources of NMPs and their subsequent migration into food (Introduction, section 6).', '6.2 Testing - Testing considerations-general': 'The paper discusses analytical methods for detecting NMPs in food (section 5).', '6.3 Testing - Bioaccumulation and persistence test methods': 'The review discusses methods used to assess the bioaccumulation and persistence of NMPs (section 5).', '6.10 Testing - Human and environmental effects and toxicity test methods': 'The paper discusses methods used to assess the toxicity of NMPs in vitro and in vivo (section 5).', '6.11 Testing - Human and environmental exposure test methods': 'The paper describes methods used to determine human and environmental exposure to NMPs (section 5).'}\n",
      "\n",
      "File 5: Processing 2023-10-21.pdf in project 'IMPTOX'...\n",
      "Total Classes: 4, Classes: {'1.3 Characteristics of plastics - Biological processes and biotic interactions with plastic': 'While not directly about plastics, the paper focuses on tropomyosin, a protein found in shellfish, and its interaction with the human body, specifically in allergic reactions. This touches on the broader theme of biotic interactions with substances that may have plastic-like properties.', '4.2 Effects assessment - Bioaccumulation and biomagnification': 'The research discusses the persistence of tropomyosin, a protein that may be present in plastic waste, in the food chain and its potential for causing allergic reactions in humans. This is strongly related to bioaccumulation and biomagnification, even if the focus is not solely on plastics.', '4.8 Effects assessment - Human toxicity': 'The study directly addresses human health effects, specifically allergic reactions, caused by the tropomyosin protein, which can be found in shellfish and potentially be linked to plastic particles.', '5.2 Exposure assessment - Consumer exposure': 'The research investigates the presence of tropomyosin in food products, assessing consumer exposure to this allergen,  which can also be indirectly associated with microplastics in food.'}\n",
      "\n",
      "File 6: Processing 2023-12-13.pdf in project 'IMPTOX'...\n",
      "Total Classes: 10, Classes: {'1.1 Characteristics of plastics - Characteristics of plastics-general': 'The paper characterizes nanoprecipitated PET nanoplastics regarding their size (300 nm hydrodynamic diameter), zeta potential (-34.93 mV to -63.53 mV), and the presence of residual ionic surfactant (SDS).  This information is explicitly detailed in sections 3.1.2, 3.1.4, and 3.1.3 respectively.', '1.5 Characteristics of plastics - Degradation': 'The paper discusses the nanoprecipitation method used to produce the PET nanoplastics, which involves dissolving PET pellets and subsequent precipitation.  This process is described in section 2.2.1, implicitly indicating a form of plastic degradation.', '1.6 Characteristics of plastics - Environmental fate and behavior of plastic': 'The introduction (section 1) mentions the formation of microplastics and nanoplastics from larger plastic waste through environmental processes like photodegradation and hydrolytic cleavage, highlighting the environmental fate and behavior of plastics.', '4.1 Effects assessment - Effects assessment-general': 'The paper investigates the cytotoxic effects of PET nanoplastics on human primary mononuclear cells and the hemolytic effects on erythrocytes. These are described in sections 3.2.1 and 3.2.2 respectively.', '4.6 Effects assessment - Environmental effects and ecotoxicity': 'While the primary focus is on human cells, the introduction (section 1) mentions the potential ecological and health risks of nanoplastics, and the need for a health risk assessment, implicitly relating to environmental effects and ecotoxicity.', '4.8 Effects assessment - Human toxicity': 'The paper assesses the toxicity of PET nanoplastics on human cells by evaluating cytotoxicity and hemolysis (sections 3.2.1 and 3.2.2).', '4.13 Effects assessment - Toxicokinetics, toxicodynamics and metabolism (ADME)': 'The study investigates the uptake of the nanoplastics by cells (section 3.2.3), implicitly addressing aspects of toxicokinetics.', '6.2 Testing - Testing considerations-general': 'The paper describes the methods and procedures for the preparation, characterization, and biological assays of the PET nanoplastics which relate to general testing considerations (section 2.2).', '6.6 Testing - Characterization test methods': 'The paper details the characterization of PET nanoplastics using 1H NMR, DLS, and zeta potential measurements (sections 2.2.3, 2.2.5, and 2.2.6).', '6.10 Testing - Human and environmental effects and toxicity test methods': 'The paper employs MTT assays, Annexin V assays, DCFDA assays, and hemolysis assays to determine the toxic effects of the PET nanoplastics on human cells (sections 2.3.2, 2.3.3, 2.3.4, and 2.3.6).'}\n",
      "\n",
      "File 7: Processing 2024-04-16.pdf in project 'IMPTOX'...\n",
      "Total Classes: 6, Classes: {'1.3 Characteristics of plastics - Biological processes and biotic interactions with plastic': 'The paper investigates the adsorption of ovalbumin, a chicken egg protein, to polystyrene and polyethylene terephthalate microplastics, directly addressing biological interactions with plastics.  Sections 2, 3, and 4 detail these interactions and their effects on ovalbumin structure.', '1.7 Fate and behavior within an organism': 'The study examines the adsorption of ovalbumin to microplastics, simulating conditions within the food matrix and digestion.  This directly relates to the fate and behavior of plastics within an organism (chicken, and by implication, humans). Sections 2, 3, and 4 provide data and analysis on this.', '4.1 Effects assessment - Effects assessment-general': 'The research explores the structural alterations in ovalbumin caused by interaction with microplastics. These structural changes represent general toxicological effects from plastics exposure.  Sections 3 and 4 detail these effects and their implications.', '4.13 Effects assessment - Toxicokinetics, toxicodynamics and metabolism (ADME)': 'The paper analyzes the adsorption and changes in ovalbumin caused by microplastics.  This is relevant to the toxicokinetics (specifically absorption and distribution) of plastics within a biological system. Sections 2, 3 and 4 support this.', '6.6 Testing - Characterization test methods': 'The paper describes various methods used to characterize the microplastics and ovalbumin, including Raman spectrometry, microFTIR, SDS-PAGE, and CD spectrometry. Section 2 details these methods.', '6.10 Testing - Human and environmental effects and toxicity test methods': 'The study employs methods to assess the effects of microplastics on a food protein, relevant to toxicity testing. Sections 2 and 3 detail the methods and analysis used to determine effects.'}\n",
      "\n",
      "File 1: Processing joint-policy-brief_cusp.pdf in project 'PlasticHeal'...\n",
      "Total Classes: 25, Classes: {'1.1 Characteristics of plastics - Characteristics of plastics-general': 'The paper mentions the need to understand the characteristics of micro- and nanoplastics (MNPs), including their shape and surface area (Hazard assessment section).', '1.2 Characteristics of plastics - Bioaccumulation, bioconcentration and persistence': 'The paper discusses the bioaccumulation and persistence of MNPs in organisms and the environment (Fate and exposure assessment section; Risk assessment and evaluation section).', '1.6 Characteristics of plastics - Environmental fate and behavior of plastic': 'The paper mentions investigating the fate of MNPs in the environment and adapting existing environmental fate models (Fate and exposure assessment section).', '1.7 Characteristics of plastics - Fate and behavior within an organism': 'The paper discusses the fate of MNPs within organisms, including human biomonitoring to establish internal exposure estimates (Fate and exposure assessment section).', '4.1 Effects assessment - Effects assessment-general': 'The paper aims to establish potential human health risks associated with MNPs and their absorbed/adsorbed contaminants (Introduction).', '4.2 Effects assessment - Bioaccumulation and biomagnification': 'The research will assess the bioaccumulation of MNPs (Fate and exposure assessment section).', '4.3 Effects assessment - Carcinogenicity': 'The paper mentions investigating the carcinogenicity of MNPs and assessing potential cancer risks (Hazard assessment section; Risk assessment and evaluation section).', '4.4 Effects assessment - Chronic or long-term effects, multiple forms and/or sources': 'The research will assess chronic and long-term effects of exposure to MNPs from various sources (Introduction; Hazard assessment section; Risk assessment and evaluation section).', '4.6 Effects assessment - Environmental effects and ecotoxicity': 'The paper discusses the environmental effects of MNPs (Fate and exposure assessment section; Risk assessment and evaluation section).', '4.8 Effects assessment - Human toxicity': 'The paper aims to understand the potential human health impacts of MNPs (Introduction; Hazard assessment section).', '4.9 Effects assessment - Mode of action (MOA)': 'The research will investigate the mechanisms of action of MNPs (Hazard assessment section).', '4.11 Effects assessment - Reproductive and teratogenic effects': 'The paper mentions investigating the impact of MNPs on pregnancy and early life (Hazard assessment section).', '4.13 Effects assessment - Toxicokinetics, toxicodynamics and metabolism (ADME)': 'The research will investigate the fate of MNPs in organisms, which implicitly includes aspects of toxicokinetics (Fate and exposure assessment section).', '5.1 Exposure assessment - Exposure assessment-general': 'The paper discusses assessing human exposure to MNPs via air, water, and food (Fate and exposure assessment section).', '5.2 Exposure assessment - Consumer exposure': 'The research will reduce consumer exposure to MNPs (Introduction).', '5.4 Exposure assessment - Environmental exposure': 'The paper mentions assessing environmental exposure to MNPs (Fate and exposure assessment section; Risk assessment and evaluation section).', '5.5 Exposure assessment - Occupational exposure': 'The research will address occupational exposure to MNPs (Introduction; Fate and exposure assessment section).', '6.2 Testing - Testing considerations-general': 'The paper mentions developing new analytical tools and harmonised methods for measuring MNPs (Sampling, measuring, and monitoring section).', '6.3 Testing - Bioaccumulation and persistence test methods': 'The research will develop test methods to assess the bioaccumulation and persistence of MNPs (Fate and exposure assessment section).', '6.6 Testing - Characterization test methods': 'The paper discusses developing analytical workflows for the detection and quantification of MNPs (Sampling, measuring and monitoring section).', '6.7 Testing - Environmental risk assessment (ERA)': 'The research will develop and apply risk assessment frameworks for MNPs (Risk assessment and evaluation section).', '6.10 Testing - Human and environmental effects and toxicity test methods': 'The research will develop test methods to determine the toxicity of MNPs to humans and the environment (Hazard assessment section; Risk assessment and evaluation section).', '6.11 Testing - Human and environmental exposure test methods': 'The research will develop methods for measuring MNPs in environmental and biological matrices (Sampling, measuring, and monitoring section).', '6.13 Testing - Models to predict toxicity': 'The paper mentions using QSAR and in vitro data and adverse outcome pathways (AOPs) for hazard assessment (Hazard assessment section).', '6.19 Testing - Risk assessment (RA)': 'The paper discusses developing risk evaluation frameworks for MNPs (Risk assessment and evaluation section).'}\n",
      "\n",
      "File 2: Processing ph_012_22_tobeornotnm_jnanopartres_0.pdf in project 'PlasticHeal'...\n",
      "Total Classes: 2, Classes: {'3': \"The paper extensively analyzes the European Commission's former, proposed, and updated definitions of 'nanomaterial', comparing their strengths and weaknesses and evaluating stakeholder feedback on these definitions.  This directly addresses the knowledge gap of defining plastics (and nanomaterials, a subset relevant to plastics), as defined by class 3.\", '7': \"The paper discusses the challenges in defining 'nanomaterials' and how different interpretations can impact regulatory applications, particularly noting the need for further clarification on terms like 'identifiable constituent particles' in relation to aggregates and agglomerates, which are relevant to the fate and behavior of plastics within an organism (class 7).\"}\n",
      "\n",
      "File 3: Processing ph_013_22_emergnlrp3inflamm_intjmolsci.pdf in project 'PlasticHeal'...\n",
      "Total Classes: 4, Classes: {'4.1 Effects assessment - Effects assessment-general': 'The paper extensively discusses the inflammatory and damaging effects of NLRP3 inflammasome activation and pyroptosis on the liver, particularly in the context of liver transplantation.  Sections 2 and 3 detail these effects in various liver diseases and ischemia-reperfusion injury.', '4.6 Effects assessment - Environmental effects and ecotoxicity': 'This class is not applicable. The research focuses solely on human health effects related to NLRP3 inflammasome activation and pyroptosis within the liver.', '4.9 Effects assessment - Mode of action (MOA)': 'The paper thoroughly explains the mechanisms of NLRP3 inflammasome activation and pyroptosis, including the roles of DAMPS, caspases, and gasdermin D.  Sections 1 and 2 detail this mode of action.', '4.13 Effects assessment - Toxicokinetics, toxicodynamics and metabolism (ADME)': 'This class is not directly addressed. While the paper describes the processes involved in inflammasome activation and pyroptosis, it does not quantify or analyze absorption, distribution, metabolism, and excretion rates of the molecules involved.'}\n",
      "\n",
      "File 4: Processing ph_015_22_ascnanobodies_embomolmed.pdf in project 'PlasticHeal'...\n",
      "Total Classes: 4, Classes: {'4.1 Effects assessment - Effects assessment-general': 'The research paper investigates the effects of inflammasome activation and the therapeutic potential of anti-ASC nanobodies in treating inflammatory diseases.  The overall goal is to assess the general effects of inflammasome activation and the impact of the nanobody intervention.', '4.9 Effects assessment - Mode of action (MOA)': 'The study elucidates the mechanism of action of anti-ASC nanobodies in disaggregating ASC oligomers, both intracellularly and extracellularly, thereby counteracting inflammation. This directly addresses the mode of action.', '4.13 Effects assessment - Toxicokinetics, toxicodynamics and metabolism (ADME)': 'The paper describes how the nanobody enters the cell through GSDMD pores, implying aspects of absorption and translocation. This partially addresses toxicokinetics.', '6.2 Testing - Testing considerations-general': 'The study describes the development and testing of anti-ASC nanobodies in animal models of inflammatory diseases, encompassing general aspects of testing parameters and efficacy evaluation.'}\n",
      "\n",
      "File 5: Processing ph_016_23_hazasspetnano_biomol.pdf in project 'PlasticHeal'...\n",
      "Total Classes: 8, Classes: {'1.1 Characteristics of plastics - Characteristics of plastics-general': 'The paper characterizes polystyrene nanoplastics (PSNPs) in terms of size (50 and 500 nm), shape, and surface charge (zeta potential), using TEM and DLS (Section 2.1 and 3.1).', '1.4 Characteristics of plastics - Cellular uptake of plastic': 'The study investigates the cellular uptake of PSNPs in primary human nasal epithelial cells (hNECs) using confocal microscopy (Section 2.4 and 3.3).', '1.7 Fate and behavior within an organism': 'The research examines the fate and behavior of PSNPs within hNECs, including their intracellular localization (Section 3.3).', '4.1 Effects assessment - Effects assessment-general': 'The paper assesses the general toxicological effects of PSNP exposure on hNECs, including effects on cell viability, ROS production, mitochondrial membrane potential, and autophagy (Sections 2.3, 2.5, 2.6, 2.7, 2.8, and 3.2-3.6).', '4.6 Effects assessment - Environmental effects and ecotoxicity': 'While the study focuses on human cells, the introduction discusses the environmental concerns related to microplastics and nanoplastics and their potential health hazards (Section 1).', '4.9 Effects assessment - Mode of action (MOA)': 'The study explores the mechanisms of action of PSNPs on hNECs, focusing on the effects on ROS generation, mitochondrial membrane potential, and autophagy (Sections 3.4, 3.5, and 3.6).', '6.6 Testing - Characterization test methods': 'The study details the methods used for characterizing PSNPs, including TEM, DLS, and FTIR (Section 2.1).', '6.10 Testing - Human and environmental effects and toxicity test methods': 'The paper describes the methods used to assess the toxicity of PSNPs on hNECs, such as cell viability assays, ROS detection, mitochondrial membrane potential assays, and western blotting (Sections 2.3-2.8).'}\n",
      "\n",
      "File 6: Processing ph_017_23_nplstoxinvivo_fronttox.pdf in project 'PlasticHeal'...\n",
      "Total Classes: 8, Classes: {'1.3 Characteristics of plastics - Biological processes and biotic interactions with plastic': 'The paper discusses the uptake of nanoplastics by intestinal and lung cells,  a direct interaction between biological processes and plastics.  See sections 2.1 and 2.2.', '1.4 Characteristics of plastics - Cellular uptake of plastic': 'The research focuses on the cellular uptake of nanoplastics in intestinal and lung in vitro models. Sections 2.1 and 2.2 detail this.', '4.1 Effects assessment - Effects assessment-general': 'The paper investigates the toxicity of nanoplastics, a general toxicological effect. This is the main focus throughout the paper.', '4.6 Effects assessment - Environmental effects and ecotoxicity': 'While the study uses in vitro models, the introduction explicitly mentions the environmental presence of nanoplastics and the associated public health concern.  The research contributes to understanding the potential ecotoxicological effects.', '4.9 Effects assessment - Mode of action (MOA)': 'The research aims to understand the mode of action of nanoplastics, explicitly stated in the introduction and conclusion. ', '6.2 Testing - Testing considerations-general': 'The review discusses various aspects of nanoplastics testing, including model selection, challenges like buoyancy and particle characterization, and assay interference.  See section 3.', '6.6 Testing - Characterization test methods': 'The paper extensively discusses the characterization of nanoplastics and the importance of using appropriate methods.  See section 3.', '6.10 Testing - Human and environmental effects and toxicity test methods': 'The paper evaluates toxicity test methods, specifically the use of stem cell based models and their advantages/disadvantages compared to cancer cell lines. This is discussed throughout sections 2, 3, and 4.'}\n",
      "\n",
      "File 7: Processing ph_018_23_potcarcinogmnpls_mutrev.pdf in project 'PlasticHeal'...\n",
      "Total Classes: 10, Classes: {'1.1 Characteristics of plastics - Characteristics of plastics-general': 'The paper mentions the physicochemical characteristics of micro- and nanoplastics (MNPs) influencing their interaction with cells (Introduction, paragraph 2).', '1.4 Characteristics of plastics - Cellular uptake of plastic': 'The paper discusses the uptake of MNPs by cells and their interaction with cellular components (Introduction, paragraph 2).', '1.7 Characteristics of plastics - Fate and behavior within an organism': 'The paper mentions the bioaccumulation and translocation of MNPs to different tissues (Introduction, paragraph 2).', '4.1 Effects assessment - Effects assessment-general': 'The review examines various biological responses to MNP exposure, including inflammation, genotoxicity, and fibrosis, which are associated with carcinogenic processes (Abstract, Results).', '4.3 Effects assessment - Carcinogenicity': 'The central theme of the paper is investigating the carcinogenic potential of MNPs (Abstract, Introduction).', '4.6 Effects assessment - Environmental effects and ecotoxicity': 'The paper notes that the environmental ubiquity of MNPs poses a health challenge (Introduction, paragraph 1).', '4.7 Effects assessment - Genotoxicity': 'The review specifically focuses on the genotoxicity of MNPs as a strong predictor of carcinogenicity (Abstract, Introduction).', '4.9 Effects assessment - Mode of action (MOA)': 'The paper explores the mechanisms by which MNPs may induce carcinogenicity, including inflammation, genotoxicity, and fibrosis (Introduction, Discussion).', '6.2 Testing - Testing considerations-general': 'The paper highlights the lack of standardized studies on the carcinogenic risk of MNPs and provides recommendations for future research (Abstract, Discussion).', '6.9 Testing - Genotoxicity test methods': 'The paper discusses the use of genotoxicity endpoints such as the comet assay and micronucleus assay to assess the genotoxic potential of MNPs (Results, Discussion).'}\n",
      "\n",
      "File 8: Processing ph_019_23_hazpetdrosoph_sciofthetotenv.pdf in project 'PlasticHeal'...\n",
      "Total Classes: 12, Classes: {'1.1 Characteristics of plastics - Characteristics of plastics-general': 'The paper extensively characterizes the PET nanoplastics used in the study, detailing their size, shape, dispersity, and chemical composition (Section 2.1 and 3.1).', '1.3 Characteristics of plastics - Biological processes and biotic interactions with plastic': 'The study investigates the interaction of PET nanoplastics with symbiotic bacteria in the Drosophila gut (Section 3.3).', '1.4 Characteristics of plastics - Cellular uptake of plastic': 'The research examines the cellular uptake of PET nanoplastics by Drosophila enterocytes and hemocytes (Section 3.3).', '1.7 Fate and behavior within an organism': 'The paper tracks the movement of PET nanoplastics within the Drosophila organism from ingestion to their presence in enterocytes and hemolymph (Section 3.3).', '4.1 Effects assessment - Effects assessment-general': 'The study assesses the overall hazardous effects of PET nanoplastics on Drosophila, including oxidative stress and genotoxicity (Abstract and Section 4).', '4.6 Effects assessment - Environmental effects and ecotoxicity': 'While the study focuses on Drosophila, the introduction discusses the broader environmental and health concerns related to microplastics and nanoplastics (Section 1).', '4.7 Effects assessment - Genotoxicity': 'The research investigates the genotoxicity of PET nanoplastics in Drosophila hemocytes using the comet assay (Section 2.2.5 and 3.6).', '4.9 Effects assessment - Mode of action (MOA)': 'The study explores the mode of action of PET nanoplastics by analyzing changes in gene expression related to stress response, antioxidant defense, and DNA repair (Section 2.2.3 and 3.4).', '6.6 Testing - Characterization test methods': 'The paper details the methods used for characterizing the PET nanoplastics, including TEM, DLS, and FTIR (Section 2.1).', '6.10 Testing - Human and environmental effects and toxicity test methods': 'The research uses Drosophila as a model organism to assess the toxicity and other effects of PET nanoplastics (Section 2.2 and 3).', '6.14 Testing - Monitoring and detection equipment': 'The study uses TEM and confocal microscopy to monitor and detect PET nanoplastics within the Drosophila organism (Section 2.2.2).', '6.22 Testing - Translocation and metabolism test methods': 'The paper employs TEM and confocal microscopy to study the translocation of PET nanoplastics within the Drosophila organism (Section 2.2.2 and 3.3).'}\n",
      "\n",
      "File 9: Processing ph_020_23_titanpetnpls_sciofthetotenv_0.pdf in project 'PlasticHeal'...\n",
      "Total Classes: 9, Classes: {'1.1 Characteristics of plastics - Characteristics of plastics-general': 'The paper extensively characterizes the physicochemical properties of titanium-doped PET nanoplastics, including size distribution, shape, and composition (sections 2.2, 2.3, 2.4, 2.5, 2.6, 3.1, 3.2, 3.3, 3.4).', '1.3 Characteristics of plastics - Biological processes and biotic interactions with plastic': 'The paper investigates the cellular uptake of the nanoplastics in different human cell lines (sections 2.8, 2.9, 2.10, 3.6, 3.7).', '1.4 Characteristics of plastics - Cellular uptake of plastic': 'The study directly measures the cellular uptake of the nanoplastics using flow cytometry and confocal microscopy (sections 2.9, 2.10, 3.6).', '1.5 Characteristics of plastics - Degradation': 'The paper describes a method for obtaining nanoplastics through the sanding and acid treatment of opaque PET bottles, detailing a degradation process (sections 2.1, 3).', '1.6 Characteristics of plastics - Environmental fate and behavior of plastic': 'The research focuses on nanoplastics of environmental origin, implying a consideration of their environmental fate and behavior (Introduction, 4. Conclusions).', '1.7 Fate and behavior within an organism': 'The study examines the uptake and fate of the nanoplastics within human cells (sections 2.8, 2.9, 2.10, 3.6).', '4.1 Effects assessment - Effects assessment-general': 'The paper assesses the general toxicity of the nanoplastics by evaluating their effects on cell viability (sections 2.11, 3.7).', '4.6 Effects assessment - Environmental effects and ecotoxicity': 'While not explicitly stated, the research into environmentally derived nanoplastics strongly implies a concern for their potential ecotoxicological effects (Introduction, 4. Conclusions).', '4.13 Effects assessment - Toxicokinetics, toxicodynamics and metabolism (ADME)': 'The research implicitly addresses toxicokinetics through the investigation of cellular uptake and the potential translocation of the nanoplastics within cells (sections 2.9, 2.10, 3.6).'}\n"
     ]
    }
   ],
   "source": [
    "# Classifying Research Papers in folder=Files using Gemini 1.5 Flash, based on: \n",
    "# (1) the class descriptions from descriptions.yaml \n",
    "# (2) the prompt specified in classification_utils.py\n",
    "project_results = {}\n",
    "project_results = get_projectResults(class_descriptions, gemini_api_key)"
   ]
  },
  {
   "cell_type": "markdown",
   "metadata": {},
   "source": [
    "Creating a dataframe based on the obtained project_results dictionary."
   ]
  },
  {
   "cell_type": "code",
   "execution_count": 5,
   "metadata": {},
   "outputs": [
    {
     "data": {
      "text/plain": [
       "\"\\nDisplaying the DataFrame with all columns\\npd.set_option('display.max_columns', None)\\nclassified_df\\n\""
      ]
     },
     "execution_count": 5,
     "metadata": {},
     "output_type": "execute_result"
    }
   ],
   "source": [
    "# Creating a Dataframe with the classified papers\n",
    "classified_df = create_classified_df(project_results, class_descriptions, local_folder=\"Files\")\n",
    "\n",
    "# Security Measure: If the API key is in the DataFrame, replace it with '?'\n",
    "classified_df = classified_df.replace(gemini_api_key, '?', regex=True)\n",
    "\n",
    "'''\n",
    "Displaying the DataFrame with all columns\n",
    "pd.set_option('display.max_columns', None)\n",
    "classified_df\n",
    "'''"
   ]
  },
  {
   "cell_type": "markdown",
   "metadata": {},
   "source": [
    "# 2 Error Minimization"
   ]
  },
  {
   "cell_type": "markdown",
   "metadata": {},
   "source": [
    "Accessing the wrong classes mapping and strings file to reduce errors."
   ]
  },
  {
   "cell_type": "code",
   "execution_count": 6,
   "metadata": {},
   "outputs": [],
   "source": [
    "# Loading the mapped wrong classed from the YAML file\n",
    "with open(\"Setup/wrong_classes.yaml\", \"r\") as file:\n",
    "    wrong_classes_mapping = yaml.safe_load(file)\n",
    "\n",
    "# Loading the strings to check from the YAML file\n",
    "with open(f\"Setup/strings_to_check.yaml\", \"r\") as file:\n",
    "    strings_to_check = yaml.safe_load(file)\n",
    "strings_to_check = list(strings_to_check[\"strings_to_check\"])"
   ]
  },
  {
   "cell_type": "markdown",
   "metadata": {},
   "source": [
    "Executing error minimization steps."
   ]
  },
  {
   "cell_type": "code",
   "execution_count": 7,
   "metadata": {
    "vscode": {
     "languageId": "ruby"
    }
   },
   "outputs": [
    {
     "name": "stdout",
     "output_type": "stream",
     "text": [
      "1.7 Fate and behavior within an organism -> 1.7 Characteristics of plastics - Fate and behavior within an organism\n",
      "1.7 Fate and behavior within an organism -> 1.7 Characteristics of plastics - Fate and behavior within an organism\n",
      "1.7 Fate and behavior within an organism -> 1.7 Characteristics of plastics - Fate and behavior within an organism\n",
      "3 -> 3 Defining plastics\n",
      "7 -> 7 Unspecific uncertainties\n",
      "1.7 Fate and behavior within an organism -> 1.7 Characteristics of plastics - Fate and behavior within an organism\n",
      "1.7 Fate and behavior within an organism -> 1.7 Characteristics of plastics - Fate and behavior within an organism\n",
      "1.7 Fate and behavior within an organism -> 1.7 Characteristics of plastics - Fate and behavior within an organism\n",
      "Project: PlasticHeal, PDF: ph_013_22_emergnlrp3inflamm_intjmolsci.pdf, Class: 4.6 Effects assessment - Environmental effects and ecotoxicity, Justification: This class is not applicable. The research focuses solely on human health effects related to NLRP3 inflammasome activation and pyroptosis within the liver.\n"
     ]
    }
   ],
   "source": [
    "# Replaces wrong classes (e.g. 3) to correct ones (e.g. 3 Defining plastics)\n",
    "replace_wrong_classes_fromDict(wrong_classes_mapping, project_results)\n",
    "\n",
    "# Removing assigned classes based on specific phrases\n",
    "# CAUTION: Based on the setup of the classification, this may remove classes that are not intended to be removed.\n",
    "removed_project_results = {}\n",
    "remove_phrases_from_dict(strings_to_check, removed_project_results, project_results)"
   ]
  },
  {
   "cell_type": "markdown",
   "metadata": {},
   "source": [
    "Creating the final dataset."
   ]
  },
  {
   "cell_type": "code",
   "execution_count": 8,
   "metadata": {},
   "outputs": [
    {
     "data": {
      "text/plain": [
       "array(['{}'], dtype=object)"
      ]
     },
     "execution_count": 8,
     "metadata": {},
     "output_type": "execute_result"
    }
   ],
   "source": [
    "# Create a new DataFrame with the modified project_results\n",
    "df = create_classified_df(project_results, class_descriptions, local_folder=\"Files\")\n",
    "# Print out any class, that was not yet assigned to any prespecified class\n",
    "df[\"Other_Assigned_Classes\"].unique()"
   ]
  },
  {
   "cell_type": "markdown",
   "metadata": {},
   "source": [
    "Exporting results to the results excel file."
   ]
  },
  {
   "cell_type": "code",
   "execution_count": 9,
   "metadata": {},
   "outputs": [],
   "source": [
    "# Export the Final DataFrame to Excel\n",
    "df.to_excel(\"results.xlsx\")"
   ]
  }
 ],
 "metadata": {
  "kernelspec": {
   "display_name": ".venv",
   "language": "python",
   "name": "python3"
  },
  "language_info": {
   "codemirror_mode": {
    "name": "ipython",
    "version": 3
   },
   "file_extension": ".py",
   "mimetype": "text/x-python",
   "name": "python",
   "nbconvert_exporter": "python",
   "pygments_lexer": "ipython3",
   "version": "3.11.9"
  }
 },
 "nbformat": 4,
 "nbformat_minor": 2
}
